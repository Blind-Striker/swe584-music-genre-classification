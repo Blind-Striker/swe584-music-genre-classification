{
 "cells": [
  {
   "cell_type": "code",
   "execution_count": 39,
   "metadata": {
    "collapsed": true,
    "pycharm": {
     "name": "#%%\n"
    }
   },
   "outputs": [],
   "source": [
    "import matplotlib.pyplot as plt\n",
    "import numpy as np\n",
    "import pandas as pd\n",
    "from sklearn.model_selection import train_test_split\n",
    "from sklearn.preprocessing import LabelEncoder\n",
    "from tensorflow import keras"
   ]
  },
  {
   "cell_type": "markdown",
   "metadata": {
    "pycharm": {
     "name": "#%% md\n"
    }
   },
   "source": [
    "### Dataset Inspection"
   ]
  },
  {
   "cell_type": "code",
   "execution_count": 40,
   "metadata": {
    "pycharm": {
     "name": "#%%\n"
    }
   },
   "outputs": [
    {
     "data": {
      "text/html": [
       "<div>\n",
       "<style scoped>\n",
       "    .dataframe tbody tr th:only-of-type {\n",
       "        vertical-align: middle;\n",
       "    }\n",
       "\n",
       "    .dataframe tbody tr th {\n",
       "        vertical-align: top;\n",
       "    }\n",
       "\n",
       "    .dataframe thead th {\n",
       "        text-align: right;\n",
       "    }\n",
       "</style>\n",
       "<table border=\"1\" class=\"dataframe\">\n",
       "  <thead>\n",
       "    <tr style=\"text-align: right;\">\n",
       "      <th></th>\n",
       "      <th>filename</th>\n",
       "      <th>length</th>\n",
       "      <th>chroma_stft_mean</th>\n",
       "      <th>chroma_stft_var</th>\n",
       "      <th>rms_mean</th>\n",
       "      <th>rms_var</th>\n",
       "      <th>spectral_centroid_mean</th>\n",
       "      <th>spectral_centroid_var</th>\n",
       "      <th>spectral_bandwidth_mean</th>\n",
       "      <th>spectral_bandwidth_var</th>\n",
       "      <th>...</th>\n",
       "      <th>mfcc16_var</th>\n",
       "      <th>mfcc17_mean</th>\n",
       "      <th>mfcc17_var</th>\n",
       "      <th>mfcc18_mean</th>\n",
       "      <th>mfcc18_var</th>\n",
       "      <th>mfcc19_mean</th>\n",
       "      <th>mfcc19_var</th>\n",
       "      <th>mfcc20_mean</th>\n",
       "      <th>mfcc20_var</th>\n",
       "      <th>label</th>\n",
       "    </tr>\n",
       "  </thead>\n",
       "  <tbody>\n",
       "    <tr>\n",
       "      <th>2819</th>\n",
       "      <td>country.00082.4.wav</td>\n",
       "      <td>66149</td>\n",
       "      <td>0.384020</td>\n",
       "      <td>0.081427</td>\n",
       "      <td>0.146943</td>\n",
       "      <td>0.002138</td>\n",
       "      <td>2230.635639</td>\n",
       "      <td>1.535474e+05</td>\n",
       "      <td>2279.347644</td>\n",
       "      <td>52591.037245</td>\n",
       "      <td>...</td>\n",
       "      <td>80.928917</td>\n",
       "      <td>-12.437122</td>\n",
       "      <td>86.095238</td>\n",
       "      <td>2.117226</td>\n",
       "      <td>51.377232</td>\n",
       "      <td>-4.204382</td>\n",
       "      <td>51.684864</td>\n",
       "      <td>-0.340717</td>\n",
       "      <td>48.070740</td>\n",
       "      <td>country</td>\n",
       "    </tr>\n",
       "    <tr>\n",
       "      <th>4809</th>\n",
       "      <td>hiphop.00081.7.wav</td>\n",
       "      <td>66149</td>\n",
       "      <td>0.474840</td>\n",
       "      <td>0.093967</td>\n",
       "      <td>0.089663</td>\n",
       "      <td>0.003348</td>\n",
       "      <td>1439.674929</td>\n",
       "      <td>3.098200e+05</td>\n",
       "      <td>2015.787282</td>\n",
       "      <td>150254.856024</td>\n",
       "      <td>...</td>\n",
       "      <td>26.551142</td>\n",
       "      <td>-3.869365</td>\n",
       "      <td>31.542871</td>\n",
       "      <td>-2.546435</td>\n",
       "      <td>33.762974</td>\n",
       "      <td>-1.859263</td>\n",
       "      <td>34.106243</td>\n",
       "      <td>-6.679843</td>\n",
       "      <td>31.321217</td>\n",
       "      <td>hiphop</td>\n",
       "    </tr>\n",
       "    <tr>\n",
       "      <th>8724</th>\n",
       "      <td>reggae.00073.2.wav</td>\n",
       "      <td>66149</td>\n",
       "      <td>0.441837</td>\n",
       "      <td>0.086262</td>\n",
       "      <td>0.196619</td>\n",
       "      <td>0.001472</td>\n",
       "      <td>2227.225576</td>\n",
       "      <td>5.869288e+05</td>\n",
       "      <td>2698.598533</td>\n",
       "      <td>217961.519380</td>\n",
       "      <td>...</td>\n",
       "      <td>25.605215</td>\n",
       "      <td>4.407925</td>\n",
       "      <td>26.947706</td>\n",
       "      <td>2.558862</td>\n",
       "      <td>32.746071</td>\n",
       "      <td>0.932220</td>\n",
       "      <td>24.595800</td>\n",
       "      <td>-2.589396</td>\n",
       "      <td>29.429108</td>\n",
       "      <td>reggae</td>\n",
       "    </tr>\n",
       "    <tr>\n",
       "      <th>8364</th>\n",
       "      <td>reggae.00037.2.wav</td>\n",
       "      <td>66149</td>\n",
       "      <td>0.493697</td>\n",
       "      <td>0.091566</td>\n",
       "      <td>0.080685</td>\n",
       "      <td>0.003003</td>\n",
       "      <td>1702.768680</td>\n",
       "      <td>7.588034e+05</td>\n",
       "      <td>2099.363219</td>\n",
       "      <td>258544.090725</td>\n",
       "      <td>...</td>\n",
       "      <td>66.427261</td>\n",
       "      <td>-4.883038</td>\n",
       "      <td>22.387087</td>\n",
       "      <td>0.460015</td>\n",
       "      <td>60.258209</td>\n",
       "      <td>-7.066449</td>\n",
       "      <td>28.887695</td>\n",
       "      <td>-3.865829</td>\n",
       "      <td>38.948807</td>\n",
       "      <td>reggae</td>\n",
       "    </tr>\n",
       "    <tr>\n",
       "      <th>1951</th>\n",
       "      <td>classical.00095.3.wav</td>\n",
       "      <td>66149</td>\n",
       "      <td>0.176672</td>\n",
       "      <td>0.082758</td>\n",
       "      <td>0.009073</td>\n",
       "      <td>0.000018</td>\n",
       "      <td>1931.816343</td>\n",
       "      <td>1.786166e+05</td>\n",
       "      <td>1866.909806</td>\n",
       "      <td>44099.836140</td>\n",
       "      <td>...</td>\n",
       "      <td>186.663925</td>\n",
       "      <td>0.435246</td>\n",
       "      <td>123.966454</td>\n",
       "      <td>7.386530</td>\n",
       "      <td>55.604027</td>\n",
       "      <td>-0.398746</td>\n",
       "      <td>177.042114</td>\n",
       "      <td>-2.933468</td>\n",
       "      <td>129.590683</td>\n",
       "      <td>classical</td>\n",
       "    </tr>\n",
       "    <tr>\n",
       "      <th>2222</th>\n",
       "      <td>country.00022.7.wav</td>\n",
       "      <td>66149</td>\n",
       "      <td>0.291042</td>\n",
       "      <td>0.096806</td>\n",
       "      <td>0.070367</td>\n",
       "      <td>0.000256</td>\n",
       "      <td>1759.943687</td>\n",
       "      <td>5.862368e+04</td>\n",
       "      <td>2105.804259</td>\n",
       "      <td>51167.626577</td>\n",
       "      <td>...</td>\n",
       "      <td>78.239822</td>\n",
       "      <td>-1.659548</td>\n",
       "      <td>29.622013</td>\n",
       "      <td>-7.651679</td>\n",
       "      <td>50.436459</td>\n",
       "      <td>-2.133640</td>\n",
       "      <td>16.467779</td>\n",
       "      <td>1.637537</td>\n",
       "      <td>26.927679</td>\n",
       "      <td>country</td>\n",
       "    </tr>\n",
       "    <tr>\n",
       "      <th>825</th>\n",
       "      <td>blues.00082.5.wav</td>\n",
       "      <td>66149</td>\n",
       "      <td>0.366049</td>\n",
       "      <td>0.090759</td>\n",
       "      <td>0.268130</td>\n",
       "      <td>0.002281</td>\n",
       "      <td>2148.839206</td>\n",
       "      <td>9.865614e+04</td>\n",
       "      <td>2172.078025</td>\n",
       "      <td>60663.404928</td>\n",
       "      <td>...</td>\n",
       "      <td>54.729614</td>\n",
       "      <td>-10.707451</td>\n",
       "      <td>85.459106</td>\n",
       "      <td>1.237963</td>\n",
       "      <td>96.792381</td>\n",
       "      <td>-7.940660</td>\n",
       "      <td>40.132462</td>\n",
       "      <td>-2.372456</td>\n",
       "      <td>58.853455</td>\n",
       "      <td>blues</td>\n",
       "    </tr>\n",
       "    <tr>\n",
       "      <th>4410</th>\n",
       "      <td>hiphop.00041.8.wav</td>\n",
       "      <td>66149</td>\n",
       "      <td>0.400962</td>\n",
       "      <td>0.092372</td>\n",
       "      <td>0.199404</td>\n",
       "      <td>0.009746</td>\n",
       "      <td>2790.763211</td>\n",
       "      <td>8.005098e+05</td>\n",
       "      <td>2715.939962</td>\n",
       "      <td>101507.422061</td>\n",
       "      <td>...</td>\n",
       "      <td>63.141888</td>\n",
       "      <td>-9.952040</td>\n",
       "      <td>41.215363</td>\n",
       "      <td>-6.863829</td>\n",
       "      <td>41.550308</td>\n",
       "      <td>-8.125879</td>\n",
       "      <td>98.321411</td>\n",
       "      <td>-1.312383</td>\n",
       "      <td>117.146881</td>\n",
       "      <td>hiphop</td>\n",
       "    </tr>\n",
       "    <tr>\n",
       "      <th>4472</th>\n",
       "      <td>hiphop.00048.0.wav</td>\n",
       "      <td>66149</td>\n",
       "      <td>0.272883</td>\n",
       "      <td>0.091210</td>\n",
       "      <td>0.110880</td>\n",
       "      <td>0.004093</td>\n",
       "      <td>1059.992002</td>\n",
       "      <td>2.376498e+05</td>\n",
       "      <td>1738.324329</td>\n",
       "      <td>174283.846743</td>\n",
       "      <td>...</td>\n",
       "      <td>24.335636</td>\n",
       "      <td>-1.536964</td>\n",
       "      <td>27.242805</td>\n",
       "      <td>-4.272799</td>\n",
       "      <td>35.342545</td>\n",
       "      <td>-5.881894</td>\n",
       "      <td>34.909775</td>\n",
       "      <td>-6.431946</td>\n",
       "      <td>31.021492</td>\n",
       "      <td>hiphop</td>\n",
       "    </tr>\n",
       "    <tr>\n",
       "      <th>102</th>\n",
       "      <td>blues.00010.2.wav</td>\n",
       "      <td>66149</td>\n",
       "      <td>0.326162</td>\n",
       "      <td>0.097084</td>\n",
       "      <td>0.080575</td>\n",
       "      <td>0.005831</td>\n",
       "      <td>1437.048205</td>\n",
       "      <td>1.673216e+05</td>\n",
       "      <td>1659.095055</td>\n",
       "      <td>130471.237818</td>\n",
       "      <td>...</td>\n",
       "      <td>23.180239</td>\n",
       "      <td>1.194656</td>\n",
       "      <td>37.192837</td>\n",
       "      <td>-1.232118</td>\n",
       "      <td>18.491241</td>\n",
       "      <td>0.356382</td>\n",
       "      <td>25.161854</td>\n",
       "      <td>-2.590808</td>\n",
       "      <td>29.615068</td>\n",
       "      <td>blues</td>\n",
       "    </tr>\n",
       "    <tr>\n",
       "      <th>3340</th>\n",
       "      <td>disco.00034.6.wav</td>\n",
       "      <td>66149</td>\n",
       "      <td>0.330548</td>\n",
       "      <td>0.080287</td>\n",
       "      <td>0.143830</td>\n",
       "      <td>0.002057</td>\n",
       "      <td>3564.197776</td>\n",
       "      <td>2.883288e+05</td>\n",
       "      <td>3136.262634</td>\n",
       "      <td>37441.227183</td>\n",
       "      <td>...</td>\n",
       "      <td>37.947861</td>\n",
       "      <td>-2.687177</td>\n",
       "      <td>21.711452</td>\n",
       "      <td>1.334995</td>\n",
       "      <td>36.938843</td>\n",
       "      <td>1.475574</td>\n",
       "      <td>36.922985</td>\n",
       "      <td>6.492245</td>\n",
       "      <td>51.291580</td>\n",
       "      <td>disco</td>\n",
       "    </tr>\n",
       "    <tr>\n",
       "      <th>7773</th>\n",
       "      <td>pop.00078.1.wav</td>\n",
       "      <td>66149</td>\n",
       "      <td>0.471396</td>\n",
       "      <td>0.087270</td>\n",
       "      <td>0.217146</td>\n",
       "      <td>0.013307</td>\n",
       "      <td>3417.633438</td>\n",
       "      <td>1.392820e+06</td>\n",
       "      <td>3116.740575</td>\n",
       "      <td>250743.203131</td>\n",
       "      <td>...</td>\n",
       "      <td>33.603130</td>\n",
       "      <td>-0.682356</td>\n",
       "      <td>43.562126</td>\n",
       "      <td>-1.558459</td>\n",
       "      <td>68.405106</td>\n",
       "      <td>0.496364</td>\n",
       "      <td>80.103737</td>\n",
       "      <td>-3.527890</td>\n",
       "      <td>63.097603</td>\n",
       "      <td>pop</td>\n",
       "    </tr>\n",
       "    <tr>\n",
       "      <th>1445</th>\n",
       "      <td>classical.00044.5.wav</td>\n",
       "      <td>66149</td>\n",
       "      <td>0.185353</td>\n",
       "      <td>0.078872</td>\n",
       "      <td>0.021148</td>\n",
       "      <td>0.000018</td>\n",
       "      <td>1371.346051</td>\n",
       "      <td>2.787582e+04</td>\n",
       "      <td>1522.186665</td>\n",
       "      <td>38721.526182</td>\n",
       "      <td>...</td>\n",
       "      <td>66.499992</td>\n",
       "      <td>11.280411</td>\n",
       "      <td>66.322578</td>\n",
       "      <td>0.335245</td>\n",
       "      <td>86.378380</td>\n",
       "      <td>9.313240</td>\n",
       "      <td>290.354675</td>\n",
       "      <td>15.383062</td>\n",
       "      <td>516.818298</td>\n",
       "      <td>classical</td>\n",
       "    </tr>\n",
       "    <tr>\n",
       "      <th>4694</th>\n",
       "      <td>hiphop.00070.2.wav</td>\n",
       "      <td>66149</td>\n",
       "      <td>0.445729</td>\n",
       "      <td>0.087610</td>\n",
       "      <td>0.301603</td>\n",
       "      <td>0.004798</td>\n",
       "      <td>2459.857588</td>\n",
       "      <td>6.627298e+05</td>\n",
       "      <td>3088.430493</td>\n",
       "      <td>206764.484650</td>\n",
       "      <td>...</td>\n",
       "      <td>16.780176</td>\n",
       "      <td>-0.998591</td>\n",
       "      <td>20.540133</td>\n",
       "      <td>0.104368</td>\n",
       "      <td>19.851919</td>\n",
       "      <td>-4.515574</td>\n",
       "      <td>19.878120</td>\n",
       "      <td>-3.050227</td>\n",
       "      <td>22.505232</td>\n",
       "      <td>hiphop</td>\n",
       "    </tr>\n",
       "    <tr>\n",
       "      <th>3750</th>\n",
       "      <td>disco.00075.6.wav</td>\n",
       "      <td>66149</td>\n",
       "      <td>0.391910</td>\n",
       "      <td>0.086854</td>\n",
       "      <td>0.116926</td>\n",
       "      <td>0.001052</td>\n",
       "      <td>2663.422181</td>\n",
       "      <td>1.612449e+05</td>\n",
       "      <td>2465.492797</td>\n",
       "      <td>51771.775910</td>\n",
       "      <td>...</td>\n",
       "      <td>30.181358</td>\n",
       "      <td>-6.834408</td>\n",
       "      <td>33.935623</td>\n",
       "      <td>10.249393</td>\n",
       "      <td>39.359924</td>\n",
       "      <td>0.305633</td>\n",
       "      <td>38.231499</td>\n",
       "      <td>1.786010</td>\n",
       "      <td>55.065857</td>\n",
       "      <td>disco</td>\n",
       "    </tr>\n",
       "  </tbody>\n",
       "</table>\n",
       "<p>15 rows × 60 columns</p>\n",
       "</div>"
      ],
      "text/plain": [
       "                   filename  length  chroma_stft_mean  chroma_stft_var  \\\n",
       "2819    country.00082.4.wav   66149          0.384020         0.081427   \n",
       "4809     hiphop.00081.7.wav   66149          0.474840         0.093967   \n",
       "8724     reggae.00073.2.wav   66149          0.441837         0.086262   \n",
       "8364     reggae.00037.2.wav   66149          0.493697         0.091566   \n",
       "1951  classical.00095.3.wav   66149          0.176672         0.082758   \n",
       "2222    country.00022.7.wav   66149          0.291042         0.096806   \n",
       "825       blues.00082.5.wav   66149          0.366049         0.090759   \n",
       "4410     hiphop.00041.8.wav   66149          0.400962         0.092372   \n",
       "4472     hiphop.00048.0.wav   66149          0.272883         0.091210   \n",
       "102       blues.00010.2.wav   66149          0.326162         0.097084   \n",
       "3340      disco.00034.6.wav   66149          0.330548         0.080287   \n",
       "7773        pop.00078.1.wav   66149          0.471396         0.087270   \n",
       "1445  classical.00044.5.wav   66149          0.185353         0.078872   \n",
       "4694     hiphop.00070.2.wav   66149          0.445729         0.087610   \n",
       "3750      disco.00075.6.wav   66149          0.391910         0.086854   \n",
       "\n",
       "      rms_mean   rms_var  spectral_centroid_mean  spectral_centroid_var  \\\n",
       "2819  0.146943  0.002138             2230.635639           1.535474e+05   \n",
       "4809  0.089663  0.003348             1439.674929           3.098200e+05   \n",
       "8724  0.196619  0.001472             2227.225576           5.869288e+05   \n",
       "8364  0.080685  0.003003             1702.768680           7.588034e+05   \n",
       "1951  0.009073  0.000018             1931.816343           1.786166e+05   \n",
       "2222  0.070367  0.000256             1759.943687           5.862368e+04   \n",
       "825   0.268130  0.002281             2148.839206           9.865614e+04   \n",
       "4410  0.199404  0.009746             2790.763211           8.005098e+05   \n",
       "4472  0.110880  0.004093             1059.992002           2.376498e+05   \n",
       "102   0.080575  0.005831             1437.048205           1.673216e+05   \n",
       "3340  0.143830  0.002057             3564.197776           2.883288e+05   \n",
       "7773  0.217146  0.013307             3417.633438           1.392820e+06   \n",
       "1445  0.021148  0.000018             1371.346051           2.787582e+04   \n",
       "4694  0.301603  0.004798             2459.857588           6.627298e+05   \n",
       "3750  0.116926  0.001052             2663.422181           1.612449e+05   \n",
       "\n",
       "      spectral_bandwidth_mean  spectral_bandwidth_var  ...  mfcc16_var  \\\n",
       "2819              2279.347644            52591.037245  ...   80.928917   \n",
       "4809              2015.787282           150254.856024  ...   26.551142   \n",
       "8724              2698.598533           217961.519380  ...   25.605215   \n",
       "8364              2099.363219           258544.090725  ...   66.427261   \n",
       "1951              1866.909806            44099.836140  ...  186.663925   \n",
       "2222              2105.804259            51167.626577  ...   78.239822   \n",
       "825               2172.078025            60663.404928  ...   54.729614   \n",
       "4410              2715.939962           101507.422061  ...   63.141888   \n",
       "4472              1738.324329           174283.846743  ...   24.335636   \n",
       "102               1659.095055           130471.237818  ...   23.180239   \n",
       "3340              3136.262634            37441.227183  ...   37.947861   \n",
       "7773              3116.740575           250743.203131  ...   33.603130   \n",
       "1445              1522.186665            38721.526182  ...   66.499992   \n",
       "4694              3088.430493           206764.484650  ...   16.780176   \n",
       "3750              2465.492797            51771.775910  ...   30.181358   \n",
       "\n",
       "      mfcc17_mean  mfcc17_var  mfcc18_mean  mfcc18_var  mfcc19_mean  \\\n",
       "2819   -12.437122   86.095238     2.117226   51.377232    -4.204382   \n",
       "4809    -3.869365   31.542871    -2.546435   33.762974    -1.859263   \n",
       "8724     4.407925   26.947706     2.558862   32.746071     0.932220   \n",
       "8364    -4.883038   22.387087     0.460015   60.258209    -7.066449   \n",
       "1951     0.435246  123.966454     7.386530   55.604027    -0.398746   \n",
       "2222    -1.659548   29.622013    -7.651679   50.436459    -2.133640   \n",
       "825    -10.707451   85.459106     1.237963   96.792381    -7.940660   \n",
       "4410    -9.952040   41.215363    -6.863829   41.550308    -8.125879   \n",
       "4472    -1.536964   27.242805    -4.272799   35.342545    -5.881894   \n",
       "102      1.194656   37.192837    -1.232118   18.491241     0.356382   \n",
       "3340    -2.687177   21.711452     1.334995   36.938843     1.475574   \n",
       "7773    -0.682356   43.562126    -1.558459   68.405106     0.496364   \n",
       "1445    11.280411   66.322578     0.335245   86.378380     9.313240   \n",
       "4694    -0.998591   20.540133     0.104368   19.851919    -4.515574   \n",
       "3750    -6.834408   33.935623    10.249393   39.359924     0.305633   \n",
       "\n",
       "      mfcc19_var  mfcc20_mean  mfcc20_var      label  \n",
       "2819   51.684864    -0.340717   48.070740    country  \n",
       "4809   34.106243    -6.679843   31.321217     hiphop  \n",
       "8724   24.595800    -2.589396   29.429108     reggae  \n",
       "8364   28.887695    -3.865829   38.948807     reggae  \n",
       "1951  177.042114    -2.933468  129.590683  classical  \n",
       "2222   16.467779     1.637537   26.927679    country  \n",
       "825    40.132462    -2.372456   58.853455      blues  \n",
       "4410   98.321411    -1.312383  117.146881     hiphop  \n",
       "4472   34.909775    -6.431946   31.021492     hiphop  \n",
       "102    25.161854    -2.590808   29.615068      blues  \n",
       "3340   36.922985     6.492245   51.291580      disco  \n",
       "7773   80.103737    -3.527890   63.097603        pop  \n",
       "1445  290.354675    15.383062  516.818298  classical  \n",
       "4694   19.878120    -3.050227   22.505232     hiphop  \n",
       "3750   38.231499     1.786010   55.065857      disco  \n",
       "\n",
       "[15 rows x 60 columns]"
      ]
     },
     "execution_count": 40,
     "metadata": {},
     "output_type": "execute_result"
    }
   ],
   "source": [
    "df = pd.read_csv('./data/features_3_sec.csv')\n",
    "df.sample(15)"
   ]
  },
  {
   "cell_type": "code",
   "execution_count": 41,
   "metadata": {
    "pycharm": {
     "name": "#%%\n"
    }
   },
   "outputs": [
    {
     "data": {
      "text/plain": [
       "(9990, 60)"
      ]
     },
     "execution_count": 41,
     "metadata": {},
     "output_type": "execute_result"
    }
   ],
   "source": [
    "df.shape"
   ]
  },
  {
   "cell_type": "markdown",
   "metadata": {
    "pycharm": {
     "name": "#%% md\n"
    }
   },
   "source": [
    "### Feature Extraction\n",
    "Preprocessing of data is required before we finally train the data. We will try and focus on the last column that is ‘label’ and will encode it with the function `LabelEncoder()` of `sklearn.preprocessing`."
   ]
  },
  {
   "cell_type": "code",
   "execution_count": 42,
   "metadata": {
    "pycharm": {
     "name": "#%%\n"
    }
   },
   "outputs": [
    {
     "name": "stdout",
     "output_type": "stream",
     "text": [
      "[0 0 0 ... 9 9 9]\n"
     ]
    }
   ],
   "source": [
    "df = df.drop(labels=\"filename\", axis=1)\n",
    "\n",
    "class_list = df.iloc[:, -1]\n",
    "converter = LabelEncoder()\n",
    "y = converter.fit_transform(class_list)\n",
    "\n",
    "print(y)"
   ]
  },
  {
   "cell_type": "code",
   "execution_count": 43,
   "metadata": {
    "pycharm": {
     "name": "#%%\n"
    }
   },
   "outputs": [
    {
     "name": "stdout",
     "output_type": "stream",
     "text": [
      "      length  chroma_stft_mean  chroma_stft_var  rms_mean   rms_var  \\\n",
      "0      66149          0.335406         0.091048  0.130405  0.003521   \n",
      "1      66149          0.343065         0.086147  0.112699  0.001450   \n",
      "2      66149          0.346815         0.092243  0.132003  0.004620   \n",
      "3      66149          0.363639         0.086856  0.132565  0.002448   \n",
      "4      66149          0.335579         0.088129  0.143289  0.001701   \n",
      "...      ...               ...              ...       ...       ...   \n",
      "9985   66149          0.349126         0.080515  0.050019  0.000097   \n",
      "9986   66149          0.372564         0.082626  0.057897  0.000088   \n",
      "9987   66149          0.347481         0.089019  0.052403  0.000701   \n",
      "9988   66149          0.387527         0.084815  0.066430  0.000320   \n",
      "9989   66149          0.369293         0.086759  0.050524  0.000067   \n",
      "\n",
      "      spectral_centroid_mean  spectral_centroid_var  spectral_bandwidth_mean  \\\n",
      "0                1773.065032          167541.630869              1972.744388   \n",
      "1                1816.693777           90525.690866              2010.051501   \n",
      "2                1788.539719          111407.437613              2084.565132   \n",
      "3                1655.289045          111952.284517              1960.039988   \n",
      "4                1630.656199           79667.267654              1948.503884   \n",
      "...                      ...                    ...                      ...   \n",
      "9985             1499.083005          164266.886443              1718.707215   \n",
      "9986             1847.965128          281054.935973              1906.468492   \n",
      "9987             1346.157659          662956.246325              1561.859087   \n",
      "9988             2084.515327          203891.039161              2018.366254   \n",
      "9989             1634.330126          411429.169769              1867.422378   \n",
      "\n",
      "      spectral_bandwidth_var  rolloff_mean  ...  mfcc16_mean  mfcc16_var  \\\n",
      "0              117335.771563   3714.560359  ...    -2.853603   39.687145   \n",
      "1               65671.875673   3869.682242  ...     4.074709   64.748276   \n",
      "2               75124.921716   3997.639160  ...     4.806280   67.336563   \n",
      "3               82913.639269   3568.300218  ...    -1.359111   47.739452   \n",
      "4               60204.020268   3469.992864  ...     2.092937   30.336359   \n",
      "...                      ...           ...  ...          ...         ...   \n",
      "9985            85931.574523   3015.559458  ...     5.773784   42.485981   \n",
      "9986            99727.037054   3746.694524  ...     2.074155   32.415203   \n",
      "9987           138762.841945   2442.362154  ...    -1.005473   78.228149   \n",
      "9988            22860.992562   4313.266226  ...     4.123402   28.323744   \n",
      "9989           119722.211518   3462.042142  ...     1.342274   38.801735   \n",
      "\n",
      "      mfcc17_mean  mfcc17_var  mfcc18_mean  mfcc18_var  mfcc19_mean  \\\n",
      "0       -3.241280   36.488243     0.722209   38.099152    -5.050335   \n",
      "1       -6.055294   40.677654     0.159015   51.264091    -2.837699   \n",
      "2       -1.768610   28.348579     2.378768   45.717648    -1.938424   \n",
      "3       -3.841155   28.337118     1.218588   34.770935    -3.580352   \n",
      "4        0.664582   45.880913     1.689446   51.363583    -3.392489   \n",
      "...           ...         ...          ...         ...          ...   \n",
      "9985    -9.094270   38.326839    -4.246976   31.049839    -5.625813   \n",
      "9986   -12.375726   66.418587    -3.081278   54.414265   -11.960546   \n",
      "9987    -2.524483   21.778994     4.809936   25.980829     1.775686   \n",
      "9988    -5.363541   17.209942     6.462601   21.442928     2.354765   \n",
      "9989   -11.598399   58.983097    -0.178517   55.761299    -6.903252   \n",
      "\n",
      "      mfcc19_var  mfcc20_mean  mfcc20_var  \n",
      "0      33.618073    -0.243027   43.771767  \n",
      "1      97.030830     5.784063   59.943081  \n",
      "2      53.050835     2.517375   33.105122  \n",
      "3      50.836224     3.630866   32.023678  \n",
      "4      26.738789     0.536961   29.146694  \n",
      "...          ...          ...         ...  \n",
      "9985   48.804092     1.818823   38.966969  \n",
      "9986   63.452255     0.428857   18.697033  \n",
      "9987   48.582378    -0.299545   41.586990  \n",
      "9988   24.843613     0.675824   12.787750  \n",
      "9989   39.485901    -3.412534   31.727489  \n",
      "\n",
      "[9990 rows x 58 columns]\n"
     ]
    }
   ],
   "source": [
    "print(df.iloc[:, :-1])"
   ]
  },
  {
   "cell_type": "markdown",
   "metadata": {
    "pycharm": {
     "name": "#%% md\n"
    }
   },
   "source": [
    "### Scaling the features\n",
    "Standard scaler is used to standardize features by removing the mean and scaling to unit variance. The standard score of sample x is calculated as: z = (x - u) / s"
   ]
  },
  {
   "cell_type": "code",
   "execution_count": 44,
   "metadata": {
    "pycharm": {
     "name": "#%%\n"
    }
   },
   "outputs": [],
   "source": [
    "from sklearn.preprocessing import StandardScaler\n",
    "\n",
    "fit = StandardScaler()\n",
    "X = fit.fit_transform(np.array(df.iloc[:, :-1], dtype=float))"
   ]
  },
  {
   "cell_type": "markdown",
   "metadata": {
    "pycharm": {
     "name": "#%% md\n"
    }
   },
   "source": [
    "### Dividing Training and Testing Dataset"
   ]
  },
  {
   "cell_type": "code",
   "execution_count": 45,
   "metadata": {
    "pycharm": {
     "name": "#%%\n"
    }
   },
   "outputs": [],
   "source": [
    "X_train, X_test, y_train, y_test = train_test_split(X, y, test_size=0.33)"
   ]
  },
  {
   "cell_type": "code",
   "execution_count": 46,
   "metadata": {
    "pycharm": {
     "name": "#%%\n"
    }
   },
   "outputs": [
    {
     "data": {
      "text/plain": [
       "3297"
      ]
     },
     "execution_count": 46,
     "metadata": {},
     "output_type": "execute_result"
    }
   ],
   "source": [
    "len(y_test)"
   ]
  },
  {
   "cell_type": "code",
   "execution_count": 47,
   "metadata": {
    "pycharm": {
     "name": "#%%\n"
    }
   },
   "outputs": [
    {
     "data": {
      "text/plain": [
       "6693"
      ]
     },
     "execution_count": 47,
     "metadata": {},
     "output_type": "execute_result"
    }
   ],
   "source": [
    "len(y_train)"
   ]
  },
  {
   "cell_type": "markdown",
   "metadata": {
    "pycharm": {
     "name": "#%% md\n"
    }
   },
   "source": [
    "### Building the model\n",
    "\n",
    "For the CNN model, we had used the Adam optimizer for training the model. The epoch that was chosen for the training model is 600. All of the hidden layers are using the RELU activation function and the output layer uses the softmax function. The loss is calculated using the sparse_categorical_crossentropy function. Dropout is used to prevent overfitting. We chose the Adam optimizer because it gave us the best results after evaluating other optimizers. The model accuracy can be increased by further increasing the epochs but after a certain period, we may achieve a threshold, so the value should be determined accordingly."
   ]
  },
  {
   "cell_type": "code",
   "execution_count": 48,
   "metadata": {
    "pycharm": {
     "name": "#%%\n"
    }
   },
   "outputs": [],
   "source": [
    "import tensorflow as tf"
   ]
  },
  {
   "cell_type": "code",
   "execution_count": 49,
   "metadata": {
    "pycharm": {
     "name": "#%%\n"
    }
   },
   "outputs": [],
   "source": [
    "def trainModel(model, epochs, optimizer):\n",
    "    batch_size = 128\n",
    "    model.compile(optimizer=optimizer, loss='sparse_categorical_crossentropy', metrics='accuracy')\n",
    "    return model.fit(X_train, y_train, validation_data=(X_test, y_test), epochs=epochs, batch_size=batch_size)\n",
    "\n",
    "\n",
    "def plotValidate(history):\n",
    "    print(\"Validation Accuracy\", max(history.history[\"val_accuracy\"]))\n",
    "    pd.DataFrame(history.history).plot(figsize=(12, 6))\n",
    "    plt.show()\n",
    "\n",
    "model = tf.keras.models.Sequential([\n",
    "    tf.keras.layers.Dense(512, activation='relu', input_shape=(X_train.shape[1],)),\n",
    "    tf.keras.layers.Dropout(0.2),\n",
    "\n",
    "    tf.keras.layers.Dense(256, activation='relu'),\n",
    "    keras.layers.Dropout(0.2),\n",
    "\n",
    "    tf.keras.layers.Dense(128, activation='relu'),\n",
    "    tf.keras.layers.Dropout(0.2),\n",
    "\n",
    "    tf.keras.layers.Dense(64, activation='relu'),\n",
    "    tf.keras.layers.Dropout(0.2),\n",
    "\n",
    "    tf.keras.layers.Dense(10, activation='softmax'),\n",
    "])\n",
    "\n",
    "print(model.summary())\n",
    "model_history = trainModel(model=model, epochs=600, optimizer='adam')"
   ]
  },
  {
   "cell_type": "code",
   "execution_count": 52,
   "metadata": {
    "pycharm": {
     "name": "#%%\n"
    }
   },
   "outputs": [
    {
     "name": "stdout",
     "output_type": "stream",
     "text": [
      "Validation Accuracy 0.9305429458618164\n"
     ]
    },
    {
     "data": {
      "text/plain": "<Figure size 864x432 with 1 Axes>",
      "image/png": "[encoded data removed]"
     },
     "metadata": {
      "needs_background": "light"
     },
     "output_type": "display_data"
    }
   ],
   "source": [
    "plotValidate(model_history)"
   ]
  },
  {
   "cell_type": "markdown",
   "metadata": {
    "pycharm": {
     "name": "#%% md\n"
    }
   },
   "source": [
    "### Conclusion\n",
    "The model accuracy can be increased by further increasing the epochs but after a certain period, we may achieve a threshold, so the value should be determined accordingly. The accuracy we achieved for the test set is 93.05 percent which is very decent. So we come to the conclusion that Neural Networks are very effective in machine learning models. Tensorflow is very useful in implementing Convolutional Neural Network (CNN) that helps in the classifying process."
   ]
  }
 ],
 "metadata": {
  "kernelspec": {
   "display_name": "Python 3 (ipykernel)",
   "language": "python",
   "name": "python3"
  },
  "language_info": {
   "codemirror_mode": {
    "name": "ipython",
    "version": 3
   },
   "file_extension": ".py",
   "mimetype": "text/x-python",
   "name": "python",
   "nbconvert_exporter": "python",
   "pygments_lexer": "ipython3",
   "version": "3.10.3"
  }
 },
 "nbformat": 4,
 "nbformat_minor": 1
}